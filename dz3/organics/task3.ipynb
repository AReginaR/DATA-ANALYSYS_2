{
 "cells": [
  {
   "cell_type": "code",
   "execution_count": 19,
   "metadata": {},
   "outputs": [],
   "source": [
    "import numpy as np \n",
    "import pandas as pd \n",
    "import pylab as pl \n",
    "import matplotlib.pyplot as plt \n",
    "plt.style.use('ggplot') \n",
    "%matplotlib inline \n",
    "import seaborn as sns \n",
    "from sklearn.tree import DecisionTreeClassifier \n",
    "from sklearn.model_selection import train_test_split "
   ]
  },
  {
   "cell_type": "code",
   "execution_count": 20,
   "metadata": {},
   "outputs": [],
   "source": [
    "data = pd.read_csv('ORGANICS.csv', encoding=\"cp1251\")"
   ]
  },
  {
   "cell_type": "code",
   "execution_count": 73,
   "metadata": {},
   "outputs": [
    {
     "data": {
      "text/html": [
       "<div>\n",
       "<style scoped>\n",
       "    .dataframe tbody tr th:only-of-type {\n",
       "        vertical-align: middle;\n",
       "    }\n",
       "\n",
       "    .dataframe tbody tr th {\n",
       "        vertical-align: top;\n",
       "    }\n",
       "\n",
       "    .dataframe thead th {\n",
       "        text-align: right;\n",
       "    }\n",
       "</style>\n",
       "<table border=\"1\" class=\"dataframe\">\n",
       "  <thead>\n",
       "    <tr style=\"text-align: right;\">\n",
       "      <th></th>\n",
       "      <th>ID</th>\n",
       "      <th>DemAffl</th>\n",
       "      <th>DemAge</th>\n",
       "      <th>DemCluster</th>\n",
       "      <th>PromSpend</th>\n",
       "      <th>PromTime</th>\n",
       "      <th>TargetBuy</th>\n",
       "      <th>TargetAmt</th>\n",
       "      <th>DemClusterGroup_A</th>\n",
       "      <th>DemClusterGroup_B</th>\n",
       "      <th>...</th>\n",
       "      <th>DemTVReg_N West</th>\n",
       "      <th>DemTVReg_S &amp; S East</th>\n",
       "      <th>DemTVReg_S West</th>\n",
       "      <th>DemTVReg_Ulster</th>\n",
       "      <th>DemTVReg_Wales &amp; West</th>\n",
       "      <th>DemTVReg_Yorkshire</th>\n",
       "      <th>PromClass_Gold</th>\n",
       "      <th>PromClass_Platinum</th>\n",
       "      <th>PromClass_Silver</th>\n",
       "      <th>PromClass_Tin</th>\n",
       "    </tr>\n",
       "  </thead>\n",
       "  <tbody>\n",
       "    <tr>\n",
       "      <td>0</td>\n",
       "      <td>-1.728379</td>\n",
       "      <td>0.396057</td>\n",
       "      <td>1.740294</td>\n",
       "      <td>-0.721286</td>\n",
       "      <td>1.531861</td>\n",
       "      <td>-0.549547</td>\n",
       "      <td>-0.573821</td>\n",
       "      <td>-0.523674</td>\n",
       "      <td>0.0</td>\n",
       "      <td>0.0</td>\n",
       "      <td>...</td>\n",
       "      <td>0.0</td>\n",
       "      <td>0.0</td>\n",
       "      <td>0.0</td>\n",
       "      <td>0.0</td>\n",
       "      <td>1.0</td>\n",
       "      <td>0.0</td>\n",
       "      <td>1.0</td>\n",
       "      <td>0.0</td>\n",
       "      <td>0.0</td>\n",
       "      <td>0.0</td>\n",
       "    </tr>\n",
       "    <tr>\n",
       "      <td>1</td>\n",
       "      <td>-1.728347</td>\n",
       "      <td>-1.400304</td>\n",
       "      <td>-0.377321</td>\n",
       "      <td>0.503661</td>\n",
       "      <td>0.208943</td>\n",
       "      <td>-0.333606</td>\n",
       "      <td>-0.573821</td>\n",
       "      <td>-0.523674</td>\n",
       "      <td>0.0</td>\n",
       "      <td>0.0</td>\n",
       "      <td>...</td>\n",
       "      <td>0.0</td>\n",
       "      <td>0.0</td>\n",
       "      <td>0.0</td>\n",
       "      <td>0.0</td>\n",
       "      <td>1.0</td>\n",
       "      <td>0.0</td>\n",
       "      <td>1.0</td>\n",
       "      <td>0.0</td>\n",
       "      <td>0.0</td>\n",
       "      <td>0.0</td>\n",
       "    </tr>\n",
       "    <tr>\n",
       "      <td>2</td>\n",
       "      <td>-1.728330</td>\n",
       "      <td>-1.100911</td>\n",
       "      <td>1.269713</td>\n",
       "      <td>-0.012106</td>\n",
       "      <td>-0.584805</td>\n",
       "      <td>0.314220</td>\n",
       "      <td>1.742624</td>\n",
       "      <td>1.253059</td>\n",
       "      <td>0.0</td>\n",
       "      <td>0.0</td>\n",
       "      <td>...</td>\n",
       "      <td>0.0</td>\n",
       "      <td>0.0</td>\n",
       "      <td>0.0</td>\n",
       "      <td>0.0</td>\n",
       "      <td>1.0</td>\n",
       "      <td>0.0</td>\n",
       "      <td>0.0</td>\n",
       "      <td>0.0</td>\n",
       "      <td>1.0</td>\n",
       "      <td>0.0</td>\n",
       "    </tr>\n",
       "    <tr>\n",
       "      <td>3</td>\n",
       "      <td>-1.728314</td>\n",
       "      <td>0.396057</td>\n",
       "      <td>0.877562</td>\n",
       "      <td>1.535196</td>\n",
       "      <td>-0.584806</td>\n",
       "      <td>0.098278</td>\n",
       "      <td>1.742624</td>\n",
       "      <td>1.253059</td>\n",
       "      <td>0.0</td>\n",
       "      <td>0.0</td>\n",
       "      <td>...</td>\n",
       "      <td>0.0</td>\n",
       "      <td>0.0</td>\n",
       "      <td>0.0</td>\n",
       "      <td>0.0</td>\n",
       "      <td>0.0</td>\n",
       "      <td>0.0</td>\n",
       "      <td>0.0</td>\n",
       "      <td>0.0</td>\n",
       "      <td>0.0</td>\n",
       "      <td>1.0</td>\n",
       "    </tr>\n",
       "    <tr>\n",
       "      <td>4</td>\n",
       "      <td>-1.728235</td>\n",
       "      <td>0.695450</td>\n",
       "      <td>1.112852</td>\n",
       "      <td>-1.494937</td>\n",
       "      <td>-0.584806</td>\n",
       "      <td>0.314220</td>\n",
       "      <td>-0.573821</td>\n",
       "      <td>-0.523674</td>\n",
       "      <td>1.0</td>\n",
       "      <td>0.0</td>\n",
       "      <td>...</td>\n",
       "      <td>0.0</td>\n",
       "      <td>0.0</td>\n",
       "      <td>0.0</td>\n",
       "      <td>0.0</td>\n",
       "      <td>0.0</td>\n",
       "      <td>0.0</td>\n",
       "      <td>0.0</td>\n",
       "      <td>0.0</td>\n",
       "      <td>0.0</td>\n",
       "      <td>1.0</td>\n",
       "    </tr>\n",
       "    <tr>\n",
       "      <td>...</td>\n",
       "      <td>...</td>\n",
       "      <td>...</td>\n",
       "      <td>...</td>\n",
       "      <td>...</td>\n",
       "      <td>...</td>\n",
       "      <td>...</td>\n",
       "      <td>...</td>\n",
       "      <td>...</td>\n",
       "      <td>...</td>\n",
       "      <td>...</td>\n",
       "      <td>...</td>\n",
       "      <td>...</td>\n",
       "      <td>...</td>\n",
       "      <td>...</td>\n",
       "      <td>...</td>\n",
       "      <td>...</td>\n",
       "      <td>...</td>\n",
       "      <td>...</td>\n",
       "      <td>...</td>\n",
       "      <td>...</td>\n",
       "      <td>...</td>\n",
       "    </tr>\n",
       "    <tr>\n",
       "      <td>22218</td>\n",
       "      <td>1.776365</td>\n",
       "      <td>1.294237</td>\n",
       "      <td>0.877562</td>\n",
       "      <td>-1.172583</td>\n",
       "      <td>-0.386370</td>\n",
       "      <td>-0.333606</td>\n",
       "      <td>-0.573821</td>\n",
       "      <td>-0.523674</td>\n",
       "      <td>0.0</td>\n",
       "      <td>1.0</td>\n",
       "      <td>...</td>\n",
       "      <td>0.0</td>\n",
       "      <td>0.0</td>\n",
       "      <td>0.0</td>\n",
       "      <td>0.0</td>\n",
       "      <td>0.0</td>\n",
       "      <td>0.0</td>\n",
       "      <td>0.0</td>\n",
       "      <td>0.0</td>\n",
       "      <td>1.0</td>\n",
       "      <td>0.0</td>\n",
       "    </tr>\n",
       "    <tr>\n",
       "      <td>22219</td>\n",
       "      <td>1.776386</td>\n",
       "      <td>1.893024</td>\n",
       "      <td>1.505003</td>\n",
       "      <td>0.439190</td>\n",
       "      <td>0.215962</td>\n",
       "      <td>1.177988</td>\n",
       "      <td>-0.573821</td>\n",
       "      <td>-0.523674</td>\n",
       "      <td>0.0</td>\n",
       "      <td>0.0</td>\n",
       "      <td>...</td>\n",
       "      <td>0.0</td>\n",
       "      <td>1.0</td>\n",
       "      <td>0.0</td>\n",
       "      <td>0.0</td>\n",
       "      <td>0.0</td>\n",
       "      <td>0.0</td>\n",
       "      <td>1.0</td>\n",
       "      <td>0.0</td>\n",
       "      <td>0.0</td>\n",
       "      <td>0.0</td>\n",
       "    </tr>\n",
       "    <tr>\n",
       "      <td>22220</td>\n",
       "      <td>1.776564</td>\n",
       "      <td>0.096663</td>\n",
       "      <td>1.269713</td>\n",
       "      <td>-0.785757</td>\n",
       "      <td>0.208943</td>\n",
       "      <td>-0.333606</td>\n",
       "      <td>-0.573821</td>\n",
       "      <td>-0.523674</td>\n",
       "      <td>0.0</td>\n",
       "      <td>1.0</td>\n",
       "      <td>...</td>\n",
       "      <td>0.0</td>\n",
       "      <td>0.0</td>\n",
       "      <td>0.0</td>\n",
       "      <td>0.0</td>\n",
       "      <td>0.0</td>\n",
       "      <td>1.0</td>\n",
       "      <td>1.0</td>\n",
       "      <td>0.0</td>\n",
       "      <td>0.0</td>\n",
       "      <td>0.0</td>\n",
       "    </tr>\n",
       "    <tr>\n",
       "      <td>22221</td>\n",
       "      <td>1.776633</td>\n",
       "      <td>0.695450</td>\n",
       "      <td>0.955992</td>\n",
       "      <td>-1.237054</td>\n",
       "      <td>0.076651</td>\n",
       "      <td>-0.333606</td>\n",
       "      <td>-0.573821</td>\n",
       "      <td>-0.523674</td>\n",
       "      <td>0.0</td>\n",
       "      <td>1.0</td>\n",
       "      <td>...</td>\n",
       "      <td>1.0</td>\n",
       "      <td>0.0</td>\n",
       "      <td>0.0</td>\n",
       "      <td>0.0</td>\n",
       "      <td>0.0</td>\n",
       "      <td>0.0</td>\n",
       "      <td>0.0</td>\n",
       "      <td>0.0</td>\n",
       "      <td>1.0</td>\n",
       "      <td>0.0</td>\n",
       "    </tr>\n",
       "    <tr>\n",
       "      <td>22222</td>\n",
       "      <td>1.777852</td>\n",
       "      <td>-1.699698</td>\n",
       "      <td>1.661864</td>\n",
       "      <td>1.664138</td>\n",
       "      <td>0.208943</td>\n",
       "      <td>-0.981431</td>\n",
       "      <td>-0.573821</td>\n",
       "      <td>-0.523674</td>\n",
       "      <td>0.0</td>\n",
       "      <td>0.0</td>\n",
       "      <td>...</td>\n",
       "      <td>0.0</td>\n",
       "      <td>0.0</td>\n",
       "      <td>1.0</td>\n",
       "      <td>0.0</td>\n",
       "      <td>0.0</td>\n",
       "      <td>0.0</td>\n",
       "      <td>1.0</td>\n",
       "      <td>0.0</td>\n",
       "      <td>0.0</td>\n",
       "      <td>0.0</td>\n",
       "    </tr>\n",
       "  </tbody>\n",
       "</table>\n",
       "<p>22223 rows × 40 columns</p>\n",
       "</div>"
      ],
      "text/plain": [
       "             ID   DemAffl    DemAge  DemCluster  PromSpend  PromTime  \\\n",
       "0     -1.728379  0.396057  1.740294   -0.721286   1.531861 -0.549547   \n",
       "1     -1.728347 -1.400304 -0.377321    0.503661   0.208943 -0.333606   \n",
       "2     -1.728330 -1.100911  1.269713   -0.012106  -0.584805  0.314220   \n",
       "3     -1.728314  0.396057  0.877562    1.535196  -0.584806  0.098278   \n",
       "4     -1.728235  0.695450  1.112852   -1.494937  -0.584806  0.314220   \n",
       "...         ...       ...       ...         ...        ...       ...   \n",
       "22218  1.776365  1.294237  0.877562   -1.172583  -0.386370 -0.333606   \n",
       "22219  1.776386  1.893024  1.505003    0.439190   0.215962  1.177988   \n",
       "22220  1.776564  0.096663  1.269713   -0.785757   0.208943 -0.333606   \n",
       "22221  1.776633  0.695450  0.955992   -1.237054   0.076651 -0.333606   \n",
       "22222  1.777852 -1.699698  1.661864    1.664138   0.208943 -0.981431   \n",
       "\n",
       "       TargetBuy  TargetAmt  DemClusterGroup_A  DemClusterGroup_B  ...  \\\n",
       "0      -0.573821  -0.523674                0.0                0.0  ...   \n",
       "1      -0.573821  -0.523674                0.0                0.0  ...   \n",
       "2       1.742624   1.253059                0.0                0.0  ...   \n",
       "3       1.742624   1.253059                0.0                0.0  ...   \n",
       "4      -0.573821  -0.523674                1.0                0.0  ...   \n",
       "...          ...        ...                ...                ...  ...   \n",
       "22218  -0.573821  -0.523674                0.0                1.0  ...   \n",
       "22219  -0.573821  -0.523674                0.0                0.0  ...   \n",
       "22220  -0.573821  -0.523674                0.0                1.0  ...   \n",
       "22221  -0.573821  -0.523674                0.0                1.0  ...   \n",
       "22222  -0.573821  -0.523674                0.0                0.0  ...   \n",
       "\n",
       "       DemTVReg_N West  DemTVReg_S & S East  DemTVReg_S West  DemTVReg_Ulster  \\\n",
       "0                  0.0                  0.0              0.0              0.0   \n",
       "1                  0.0                  0.0              0.0              0.0   \n",
       "2                  0.0                  0.0              0.0              0.0   \n",
       "3                  0.0                  0.0              0.0              0.0   \n",
       "4                  0.0                  0.0              0.0              0.0   \n",
       "...                ...                  ...              ...              ...   \n",
       "22218              0.0                  0.0              0.0              0.0   \n",
       "22219              0.0                  1.0              0.0              0.0   \n",
       "22220              0.0                  0.0              0.0              0.0   \n",
       "22221              1.0                  0.0              0.0              0.0   \n",
       "22222              0.0                  0.0              1.0              0.0   \n",
       "\n",
       "       DemTVReg_Wales & West  DemTVReg_Yorkshire  PromClass_Gold  \\\n",
       "0                        1.0                 0.0             1.0   \n",
       "1                        1.0                 0.0             1.0   \n",
       "2                        1.0                 0.0             0.0   \n",
       "3                        0.0                 0.0             0.0   \n",
       "4                        0.0                 0.0             0.0   \n",
       "...                      ...                 ...             ...   \n",
       "22218                    0.0                 0.0             0.0   \n",
       "22219                    0.0                 0.0             1.0   \n",
       "22220                    0.0                 1.0             1.0   \n",
       "22221                    0.0                 0.0             0.0   \n",
       "22222                    0.0                 0.0             1.0   \n",
       "\n",
       "       PromClass_Platinum  PromClass_Silver  PromClass_Tin  \n",
       "0                     0.0               0.0            0.0  \n",
       "1                     0.0               0.0            0.0  \n",
       "2                     0.0               1.0            0.0  \n",
       "3                     0.0               0.0            1.0  \n",
       "4                     0.0               0.0            1.0  \n",
       "...                   ...               ...            ...  \n",
       "22218                 0.0               1.0            0.0  \n",
       "22219                 0.0               0.0            0.0  \n",
       "22220                 0.0               0.0            0.0  \n",
       "22221                 0.0               1.0            0.0  \n",
       "22222                 0.0               0.0            0.0  \n",
       "\n",
       "[22223 rows x 40 columns]"
      ]
     },
     "execution_count": 73,
     "metadata": {},
     "output_type": "execute_result"
    }
   ],
   "source": [
    "data"
   ]
  },
  {
   "cell_type": "code",
   "execution_count": 52,
   "metadata": {},
   "outputs": [
    {
     "data": {
      "text/plain": [
       "(22223, 13)"
      ]
     },
     "execution_count": 52,
     "metadata": {},
     "output_type": "execute_result"
    }
   ],
   "source": [
    "data.shape"
   ]
  },
  {
   "cell_type": "code",
   "execution_count": 53,
   "metadata": {},
   "outputs": [
    {
     "name": "stdout",
     "output_type": "stream",
     "text": [
      "<class 'pandas.core.frame.DataFrame'>\n",
      "RangeIndex: 22223 entries, 0 to 22222\n",
      "Data columns (total 13 columns):\n",
      "ID                 22223 non-null int64\n",
      "DemAffl            21138 non-null float64\n",
      "DemAge             20715 non-null float64\n",
      "DemCluster         21549 non-null float64\n",
      "DemClusterGroup    21549 non-null object\n",
      "DemGender          19711 non-null object\n",
      "DemReg             21758 non-null object\n",
      "DemTVReg           21758 non-null object\n",
      "PromClass          22223 non-null object\n",
      "PromSpend          22223 non-null float64\n",
      "PromTime           21942 non-null float64\n",
      "TargetBuy          22223 non-null int64\n",
      "TargetAmt          22223 non-null int64\n",
      "dtypes: float64(5), int64(3), object(5)\n",
      "memory usage: 2.2+ MB\n"
     ]
    }
   ],
   "source": [
    "data.info()"
   ]
  },
  {
   "cell_type": "markdown",
   "metadata": {},
   "source": [
    "1)Удаление Nan (dropna()) "
   ]
  },
  {
   "cell_type": "code",
   "execution_count": 54,
   "metadata": {},
   "outputs": [
    {
     "data": {
      "text/plain": [
       "False"
      ]
     },
     "execution_count": 54,
     "metadata": {},
     "output_type": "execute_result"
    }
   ],
   "source": [
    "df1 = data.dropna()\n",
    "df1.isnull().any().any()"
   ]
  },
  {
   "cell_type": "code",
   "execution_count": 55,
   "metadata": {},
   "outputs": [],
   "source": [
    "x=df1[['DemAffl',  'DemAge', 'DemCluster', 'PromSpend', 'PromTime']] \n",
    "y=df1.values[::,11] \n",
    "y=y.astype('int')"
   ]
  },
  {
   "cell_type": "code",
   "execution_count": 56,
   "metadata": {},
   "outputs": [],
   "source": [
    "from sklearn.model_selection import train_test_split \n",
    "\n",
    "X_train, X_test, y_train, y_test = train_test_split(x, y, test_size=0.3) "
   ]
  },
  {
   "cell_type": "code",
   "execution_count": null,
   "metadata": {},
   "outputs": [],
   "source": [
    "from sklearn.tree import DecisionTreeClassifier \n",
    "\n",
    "tree=DecisionTreeClassifier(criterion='entropy', max_depth=3, random_state=17) \n",
    "\n",
    "tree.fit(X_train, y_train) "
   ]
  },
  {
   "cell_type": "code",
   "execution_count": 58,
   "metadata": {},
   "outputs": [],
   "source": [
    "from sklearn.tree import export_graphviz \n",
    "\n",
    "import subprocess \n",
    "\n",
    "export_graphviz(tree, out_file='Organics_tree.dot',  \n",
    "\n",
    "               rounded = True, proportion = False,  \n",
    "\n",
    "                precision = 2, filled = True) \n",
    "\n",
    "\n",
    "import pydot  \n",
    "\n",
    "(graph, ) = pydot.graph_from_dot_file('Organics_tree.dot') "
   ]
  },
  {
   "cell_type": "code",
   "execution_count": 59,
   "metadata": {},
   "outputs": [],
   "source": [
    "graph.write_png('Organics_tree.png') "
   ]
  },
  {
   "cell_type": "code",
   "execution_count": 60,
   "metadata": {},
   "outputs": [
    {
     "data": {
      "text/plain": [
       "0.8022638223770135"
      ]
     },
     "execution_count": 60,
     "metadata": {},
     "output_type": "execute_result"
    }
   ],
   "source": [
    "tree.score(X_train, y_train)"
   ]
  },
  {
   "cell_type": "code",
   "execution_count": 61,
   "metadata": {},
   "outputs": [
    {
     "data": {
      "text/plain": [
       "0.7940280316879951"
      ]
     },
     "execution_count": 61,
     "metadata": {},
     "output_type": "execute_result"
    }
   ],
   "source": [
    "tree.score(X_test,y_test)"
   ]
  },
  {
   "cell_type": "markdown",
   "metadata": {},
   "source": [
    "2) Замена Nan усредненными значениями (fillna()) "
   ]
  },
  {
   "cell_type": "code",
   "execution_count": 62,
   "metadata": {},
   "outputs": [],
   "source": [
    "df2 = data.fillna(data.median(axis=0), axis=0)"
   ]
  },
  {
   "cell_type": "code",
   "execution_count": 63,
   "metadata": {},
   "outputs": [],
   "source": [
    "x=df2[['DemAffl',  'DemAge', 'DemCluster', 'PromSpend', 'PromTime']] \n",
    "y=df2.values[::,11] \n",
    "y=y.astype('int')"
   ]
  },
  {
   "cell_type": "code",
   "execution_count": 64,
   "metadata": {},
   "outputs": [],
   "source": [
    "from sklearn.model_selection import train_test_split \n",
    "\n",
    "X_train, X_test, y_train, y_test = train_test_split(x, y, test_size=0.3) "
   ]
  },
  {
   "cell_type": "code",
   "execution_count": 65,
   "metadata": {},
   "outputs": [
    {
     "data": {
      "text/plain": [
       "DecisionTreeClassifier(class_weight=None, criterion='gini', max_depth=4,\n",
       "                       max_features=None, max_leaf_nodes=None,\n",
       "                       min_impurity_decrease=0.0, min_impurity_split=None,\n",
       "                       min_samples_leaf=1, min_samples_split=2,\n",
       "                       min_weight_fraction_leaf=0.0, presort=False,\n",
       "                       random_state=0, splitter='best')"
      ]
     },
     "execution_count": 65,
     "metadata": {},
     "output_type": "execute_result"
    }
   ],
   "source": [
    "from sklearn.tree import DecisionTreeClassifier \n",
    "\n",
    "tree=DecisionTreeClassifier(max_depth=4, random_state=0) \n",
    "\n",
    "tree.fit(X_train, y_train) "
   ]
  },
  {
   "cell_type": "code",
   "execution_count": 66,
   "metadata": {},
   "outputs": [],
   "source": [
    "from sklearn.tree import export_graphviz \n",
    "\n",
    "import subprocess \n",
    "\n",
    "export_graphviz(tree, out_file='Organics_tree2.dot',  \n",
    "\n",
    "               rounded = True, proportion = False,  \n",
    "\n",
    "                precision = 2, filled = True) \n",
    "\n",
    "\n",
    "import pydot  \n",
    "\n",
    "(graph, ) = pydot.graph_from_dot_file('Organics_tree2.dot') "
   ]
  },
  {
   "cell_type": "code",
   "execution_count": 67,
   "metadata": {},
   "outputs": [],
   "source": [
    "graph.write_png('Organics_tree2.png') "
   ]
  },
  {
   "cell_type": "code",
   "execution_count": 68,
   "metadata": {},
   "outputs": [
    {
     "data": {
      "text/plain": [
       "0.8016199537156081"
      ]
     },
     "execution_count": 68,
     "metadata": {},
     "output_type": "execute_result"
    }
   ],
   "source": [
    "tree.score(X_train, y_train)"
   ]
  },
  {
   "cell_type": "code",
   "execution_count": 69,
   "metadata": {},
   "outputs": [
    {
     "data": {
      "text/plain": [
       "0.7963101844907755"
      ]
     },
     "execution_count": 69,
     "metadata": {},
     "output_type": "execute_result"
    }
   ],
   "source": [
    "tree.score(X_test,y_test)"
   ]
  },
  {
   "cell_type": "markdown",
   "metadata": {},
   "source": [
    "Обучите решающее дерево с параметрами criterion = entropy и max_depth =5. \n",
    "Какую точность дает данное дерево на контроле? Визуализируйте разделяющую поверхность. "
   ]
  },
  {
   "cell_type": "code",
   "execution_count": 70,
   "metadata": {},
   "outputs": [],
   "source": [
    "tree=DecisionTreeClassifier(max_depth=5, criterion='entropy') \n",
    "\n",
    "tree.fit(X_train, y_train) \n",
    "\n",
    "export_graphviz(tree, out_file='Organics_tree3.dot',  \n",
    "\n",
    "               rounded = True, proportion = False,  \n",
    "\n",
    "                precision = 2, filled = True) \n",
    "\n",
    "(graph, ) = pydot.graph_from_dot_file('Organics_tree3.dot') \n",
    "graph.write_png('Organics_tree3.png') "
   ]
  },
  {
   "cell_type": "code",
   "execution_count": 71,
   "metadata": {},
   "outputs": [
    {
     "name": "stdout",
     "output_type": "stream",
     "text": [
      "0.8031627667780921\n",
      "0.7955602219889005\n"
     ]
    }
   ],
   "source": [
    "print(tree.score(X_train, y_train)) \n",
    "print(tree.score(X_test,y_test))"
   ]
  },
  {
   "cell_type": "markdown",
   "metadata": {},
   "source": [
    "Выполните предыдущий пункт для разных значений глубины дерева и минимального числа объектов в листе (параметры max_depth и min_samples_leaf). Результаты запишите в виде таблицы.  Как эти параметры влияют на вид разделяющей поверхности и точность модели? "
   ]
  },
  {
   "cell_type": "code",
   "execution_count": 72,
   "metadata": {},
   "outputs": [
    {
     "data": {
      "text/html": [
       "<div>\n",
       "<style scoped>\n",
       "    .dataframe tbody tr th:only-of-type {\n",
       "        vertical-align: middle;\n",
       "    }\n",
       "\n",
       "    .dataframe tbody tr th {\n",
       "        vertical-align: top;\n",
       "    }\n",
       "\n",
       "    .dataframe thead th {\n",
       "        text-align: right;\n",
       "    }\n",
       "</style>\n",
       "<table border=\"1\" class=\"dataframe\">\n",
       "  <thead>\n",
       "    <tr style=\"text-align: right;\">\n",
       "      <th></th>\n",
       "      <th>1</th>\n",
       "      <th>2</th>\n",
       "      <th>3</th>\n",
       "      <th>4</th>\n",
       "      <th>5</th>\n",
       "      <th>6</th>\n",
       "      <th>7</th>\n",
       "    </tr>\n",
       "  </thead>\n",
       "  <tbody>\n",
       "    <tr>\n",
       "      <td>1</td>\n",
       "      <td>0.764464</td>\n",
       "      <td>0.764464</td>\n",
       "      <td>0.764464</td>\n",
       "      <td>0.764464</td>\n",
       "      <td>0.764464</td>\n",
       "      <td>0.764464</td>\n",
       "      <td>0.764464</td>\n",
       "    </tr>\n",
       "    <tr>\n",
       "      <td>2</td>\n",
       "      <td>0.793520</td>\n",
       "      <td>0.793520</td>\n",
       "      <td>0.793520</td>\n",
       "      <td>0.793520</td>\n",
       "      <td>0.793520</td>\n",
       "      <td>0.793520</td>\n",
       "      <td>0.793520</td>\n",
       "    </tr>\n",
       "    <tr>\n",
       "      <td>3</td>\n",
       "      <td>0.797827</td>\n",
       "      <td>0.797827</td>\n",
       "      <td>0.797827</td>\n",
       "      <td>0.797827</td>\n",
       "      <td>0.797827</td>\n",
       "      <td>0.797827</td>\n",
       "      <td>0.797827</td>\n",
       "    </tr>\n",
       "    <tr>\n",
       "      <td>4</td>\n",
       "      <td>0.801620</td>\n",
       "      <td>0.801620</td>\n",
       "      <td>0.801620</td>\n",
       "      <td>0.801620</td>\n",
       "      <td>0.801620</td>\n",
       "      <td>0.801620</td>\n",
       "      <td>0.801620</td>\n",
       "    </tr>\n",
       "    <tr>\n",
       "      <td>5</td>\n",
       "      <td>0.802648</td>\n",
       "      <td>0.802648</td>\n",
       "      <td>0.802648</td>\n",
       "      <td>0.802391</td>\n",
       "      <td>0.802391</td>\n",
       "      <td>0.802391</td>\n",
       "      <td>0.802391</td>\n",
       "    </tr>\n",
       "    <tr>\n",
       "      <td>6</td>\n",
       "      <td>0.807663</td>\n",
       "      <td>0.807534</td>\n",
       "      <td>0.807534</td>\n",
       "      <td>0.807470</td>\n",
       "      <td>0.807406</td>\n",
       "      <td>0.807148</td>\n",
       "      <td>0.807148</td>\n",
       "    </tr>\n",
       "    <tr>\n",
       "      <td>7</td>\n",
       "      <td>0.811648</td>\n",
       "      <td>0.811520</td>\n",
       "      <td>0.811327</td>\n",
       "      <td>0.810748</td>\n",
       "      <td>0.810491</td>\n",
       "      <td>0.809655</td>\n",
       "      <td>0.809527</td>\n",
       "    </tr>\n",
       "  </tbody>\n",
       "</table>\n",
       "</div>"
      ],
      "text/plain": [
       "          1         2         3         4         5         6         7\n",
       "1  0.764464  0.764464  0.764464  0.764464  0.764464  0.764464  0.764464\n",
       "2  0.793520  0.793520  0.793520  0.793520  0.793520  0.793520  0.793520\n",
       "3  0.797827  0.797827  0.797827  0.797827  0.797827  0.797827  0.797827\n",
       "4  0.801620  0.801620  0.801620  0.801620  0.801620  0.801620  0.801620\n",
       "5  0.802648  0.802648  0.802648  0.802391  0.802391  0.802391  0.802391\n",
       "6  0.807663  0.807534  0.807534  0.807470  0.807406  0.807148  0.807148\n",
       "7  0.811648  0.811520  0.811327  0.810748  0.810491  0.809655  0.809527"
      ]
     },
     "execution_count": 72,
     "metadata": {},
     "output_type": "execute_result"
    }
   ],
   "source": [
    "a = np.zeros((7,7),dtype=float)\n",
    "for depth in range(1,8):\n",
    "    for leaf in range(1,8):\n",
    "        tree=DecisionTreeClassifier(max_depth=depth, min_samples_leaf=leaf)\n",
    "        tree.fit(X_train, y_train)\n",
    "        a[depth-1,leaf-1]=tree.score(X_train, y_train)\n",
    "df = pd.DataFrame(data=a, index=[\"1\", \"2\", \"3\", \"4\", \"5\", \"6\", \"7\"], \n",
    "                  columns=[\"1\", \"2\", \"3\", \"4\", \"5\", \"6\", \"7\"])\n",
    "df"
   ]
  },
  {
   "cell_type": "markdown",
   "metadata": {},
   "source": [
    "Реализуйте бинарное кодирование категориальных признаков. Если у признака N возможных значений, то ему в соответствие ставится N бинарных признаков, каждый из которых соответствует одному значению исходного признака. На каждом объекте единице должен равняться строго один из них. Примените такое кодирование к столбцам c категориальными данными, добавьте результат к признакам. Удается ли с помощью новых признаков повысить качество классификации?"
   ]
  },
  {
   "cell_type": "code",
   "execution_count": 3,
   "metadata": {},
   "outputs": [],
   "source": [
    "data = pd.read_csv('ORGANICS.csv', encoding=\"cp1251\")"
   ]
  },
  {
   "cell_type": "code",
   "execution_count": 4,
   "metadata": {},
   "outputs": [],
   "source": [
    "categorical_columns = [c for c in data.columns if data[c].dtype.name == 'object']\n",
    "numerical_columns   = [c for c in data.columns if data[c].dtype.name != 'object']"
   ]
  },
  {
   "cell_type": "code",
   "execution_count": 5,
   "metadata": {},
   "outputs": [],
   "source": [
    "data = data.fillna(data.median(axis=0), axis=0)"
   ]
  },
  {
   "cell_type": "code",
   "execution_count": 6,
   "metadata": {},
   "outputs": [],
   "source": [
    "data_describe = data.describe(include=[object])\n",
    "for c in categorical_columns:\n",
    "    data[c] = data[c].fillna(data_describe[c]['top'])"
   ]
  },
  {
   "cell_type": "code",
   "execution_count": 7,
   "metadata": {},
   "outputs": [
    {
     "data": {
      "text/html": [
       "<div>\n",
       "<style scoped>\n",
       "    .dataframe tbody tr th:only-of-type {\n",
       "        vertical-align: middle;\n",
       "    }\n",
       "\n",
       "    .dataframe tbody tr th {\n",
       "        vertical-align: top;\n",
       "    }\n",
       "\n",
       "    .dataframe thead th {\n",
       "        text-align: right;\n",
       "    }\n",
       "</style>\n",
       "<table border=\"1\" class=\"dataframe\">\n",
       "  <thead>\n",
       "    <tr style=\"text-align: right;\">\n",
       "      <th></th>\n",
       "      <th>DemClusterGroup</th>\n",
       "      <th>DemGender</th>\n",
       "      <th>DemReg</th>\n",
       "      <th>DemTVReg</th>\n",
       "      <th>PromClass</th>\n",
       "    </tr>\n",
       "  </thead>\n",
       "  <tbody>\n",
       "    <tr>\n",
       "      <td>count</td>\n",
       "      <td>22223</td>\n",
       "      <td>22223</td>\n",
       "      <td>22223</td>\n",
       "      <td>22223</td>\n",
       "      <td>22223</td>\n",
       "    </tr>\n",
       "    <tr>\n",
       "      <td>unique</td>\n",
       "      <td>7</td>\n",
       "      <td>3</td>\n",
       "      <td>5</td>\n",
       "      <td>13</td>\n",
       "      <td>4</td>\n",
       "    </tr>\n",
       "    <tr>\n",
       "      <td>top</td>\n",
       "      <td>C</td>\n",
       "      <td>F</td>\n",
       "      <td>South East</td>\n",
       "      <td>London</td>\n",
       "      <td>Silver</td>\n",
       "    </tr>\n",
       "    <tr>\n",
       "      <td>freq</td>\n",
       "      <td>5240</td>\n",
       "      <td>14661</td>\n",
       "      <td>9099</td>\n",
       "      <td>6654</td>\n",
       "      <td>8572</td>\n",
       "    </tr>\n",
       "  </tbody>\n",
       "</table>\n",
       "</div>"
      ],
      "text/plain": [
       "       DemClusterGroup DemGender      DemReg DemTVReg PromClass\n",
       "count            22223     22223       22223    22223     22223\n",
       "unique               7         3           5       13         4\n",
       "top                  C         F  South East   London    Silver\n",
       "freq              5240     14661        9099     6654      8572"
      ]
     },
     "execution_count": 7,
     "metadata": {},
     "output_type": "execute_result"
    }
   ],
   "source": [
    "data.describe(include=[object])"
   ]
  },
  {
   "cell_type": "code",
   "execution_count": 9,
   "metadata": {},
   "outputs": [
    {
     "name": "stdout",
     "output_type": "stream",
     "text": [
      "[] ['DemClusterGroup', 'DemGender', 'DemReg', 'DemTVReg', 'PromClass']\n"
     ]
    }
   ],
   "source": [
    "binary_columns    = [c for c in categorical_columns if data_describe[c]['unique'] == 2]\n",
    "nonbinary_columns = [c for c in categorical_columns if data_describe[c]['unique'] > 2]\n",
    "print(binary_columns, nonbinary_columns)"
   ]
  },
  {
   "cell_type": "code",
   "execution_count": 10,
   "metadata": {},
   "outputs": [
    {
     "data": {
      "text/plain": [
       "Index(['DemClusterGroup_A', 'DemClusterGroup_B', 'DemClusterGroup_C',\n",
       "       'DemClusterGroup_D', 'DemClusterGroup_E', 'DemClusterGroup_F',\n",
       "       'DemClusterGroup_U', 'DemGender_F', 'DemGender_M', 'DemGender_U',\n",
       "       'DemReg_Midlands', 'DemReg_North', 'DemReg_Scottish',\n",
       "       'DemReg_South East', 'DemReg_South West', 'DemTVReg_Border',\n",
       "       'DemTVReg_C Scotland', 'DemTVReg_East', 'DemTVReg_London',\n",
       "       'DemTVReg_Midlands', 'DemTVReg_N East', 'DemTVReg_N Scot',\n",
       "       'DemTVReg_N West', 'DemTVReg_S & S East', 'DemTVReg_S West',\n",
       "       'DemTVReg_Ulster', 'DemTVReg_Wales & West', 'DemTVReg_Yorkshire',\n",
       "       'PromClass_Gold', 'PromClass_Platinum', 'PromClass_Silver',\n",
       "       'PromClass_Tin'],\n",
       "      dtype='object')"
      ]
     },
     "execution_count": 10,
     "metadata": {},
     "output_type": "execute_result"
    }
   ],
   "source": [
    "data_nonbinary = pd.get_dummies(data[nonbinary_columns])\n",
    "data_nonbinary.columns"
   ]
  },
  {
   "cell_type": "code",
   "execution_count": 11,
   "metadata": {},
   "outputs": [
    {
     "data": {
      "text/html": [
       "<div>\n",
       "<style scoped>\n",
       "    .dataframe tbody tr th:only-of-type {\n",
       "        vertical-align: middle;\n",
       "    }\n",
       "\n",
       "    .dataframe tbody tr th {\n",
       "        vertical-align: top;\n",
       "    }\n",
       "\n",
       "    .dataframe thead th {\n",
       "        text-align: right;\n",
       "    }\n",
       "</style>\n",
       "<table border=\"1\" class=\"dataframe\">\n",
       "  <thead>\n",
       "    <tr style=\"text-align: right;\">\n",
       "      <th></th>\n",
       "      <th>ID</th>\n",
       "      <th>DemAffl</th>\n",
       "      <th>DemAge</th>\n",
       "      <th>DemCluster</th>\n",
       "      <th>PromSpend</th>\n",
       "      <th>PromTime</th>\n",
       "      <th>TargetBuy</th>\n",
       "      <th>TargetAmt</th>\n",
       "    </tr>\n",
       "  </thead>\n",
       "  <tbody>\n",
       "    <tr>\n",
       "      <td>count</td>\n",
       "      <td>2.222300e+04</td>\n",
       "      <td>2.222300e+04</td>\n",
       "      <td>2.222300e+04</td>\n",
       "      <td>2.222300e+04</td>\n",
       "      <td>2.222300e+04</td>\n",
       "      <td>2.222300e+04</td>\n",
       "      <td>2.222300e+04</td>\n",
       "      <td>2.222300e+04</td>\n",
       "    </tr>\n",
       "    <tr>\n",
       "      <td>mean</td>\n",
       "      <td>-2.291956e-15</td>\n",
       "      <td>4.165822e-16</td>\n",
       "      <td>-4.023640e-16</td>\n",
       "      <td>-3.000894e-16</td>\n",
       "      <td>-4.686700e-14</td>\n",
       "      <td>5.564354e-17</td>\n",
       "      <td>1.107026e-15</td>\n",
       "      <td>-1.403558e-15</td>\n",
       "    </tr>\n",
       "    <tr>\n",
       "      <td>std</td>\n",
       "      <td>1.000000e+00</td>\n",
       "      <td>1.000000e+00</td>\n",
       "      <td>1.000000e+00</td>\n",
       "      <td>1.000000e+00</td>\n",
       "      <td>1.000000e+00</td>\n",
       "      <td>1.000000e+00</td>\n",
       "      <td>1.000000e+00</td>\n",
       "      <td>1.000000e+00</td>\n",
       "    </tr>\n",
       "    <tr>\n",
       "      <td>min</td>\n",
       "      <td>-1.728379e+00</td>\n",
       "      <td>-2.597878e+00</td>\n",
       "      <td>-2.808657e+00</td>\n",
       "      <td>-1.688350e+00</td>\n",
       "      <td>-5.848065e-01</td>\n",
       "      <td>-1.413315e+00</td>\n",
       "      <td>-5.738214e-01</td>\n",
       "      <td>-5.236736e-01</td>\n",
       "    </tr>\n",
       "    <tr>\n",
       "      <td>25%</td>\n",
       "      <td>-9.526637e-01</td>\n",
       "      <td>-8.015173e-01</td>\n",
       "      <td>-6.910418e-01</td>\n",
       "      <td>-8.502282e-01</td>\n",
       "      <td>-5.848065e-01</td>\n",
       "      <td>-5.495475e-01</td>\n",
       "      <td>-5.738214e-01</td>\n",
       "      <td>-5.236736e-01</td>\n",
       "    </tr>\n",
       "    <tr>\n",
       "      <td>50%</td>\n",
       "      <td>1.786658e-01</td>\n",
       "      <td>-2.027302e-01</td>\n",
       "      <td>1.482984e-02</td>\n",
       "      <td>-1.210625e-02</td>\n",
       "      <td>-3.202242e-01</td>\n",
       "      <td>-3.336056e-01</td>\n",
       "      <td>-5.738214e-01</td>\n",
       "      <td>-5.236736e-01</td>\n",
       "    </tr>\n",
       "    <tr>\n",
       "      <td>75%</td>\n",
       "      <td>7.561284e-01</td>\n",
       "      <td>3.960568e-01</td>\n",
       "      <td>7.207015e-01</td>\n",
       "      <td>6.970739e-01</td>\n",
       "      <td>2.089430e-01</td>\n",
       "      <td>3.142201e-01</td>\n",
       "      <td>-5.738214e-01</td>\n",
       "      <td>-5.236736e-01</td>\n",
       "    </tr>\n",
       "    <tr>\n",
       "      <td>max</td>\n",
       "      <td>1.777852e+00</td>\n",
       "      <td>7.581501e+00</td>\n",
       "      <td>1.975584e+00</td>\n",
       "      <td>1.793080e+00</td>\n",
       "      <td>3.861508e+01</td>\n",
       "      <td>7.008419e+00</td>\n",
       "      <td>1.742624e+00</td>\n",
       "      <td>4.806524e+00</td>\n",
       "    </tr>\n",
       "  </tbody>\n",
       "</table>\n",
       "</div>"
      ],
      "text/plain": [
       "                 ID       DemAffl        DemAge    DemCluster     PromSpend  \\\n",
       "count  2.222300e+04  2.222300e+04  2.222300e+04  2.222300e+04  2.222300e+04   \n",
       "mean  -2.291956e-15  4.165822e-16 -4.023640e-16 -3.000894e-16 -4.686700e-14   \n",
       "std    1.000000e+00  1.000000e+00  1.000000e+00  1.000000e+00  1.000000e+00   \n",
       "min   -1.728379e+00 -2.597878e+00 -2.808657e+00 -1.688350e+00 -5.848065e-01   \n",
       "25%   -9.526637e-01 -8.015173e-01 -6.910418e-01 -8.502282e-01 -5.848065e-01   \n",
       "50%    1.786658e-01 -2.027302e-01  1.482984e-02 -1.210625e-02 -3.202242e-01   \n",
       "75%    7.561284e-01  3.960568e-01  7.207015e-01  6.970739e-01  2.089430e-01   \n",
       "max    1.777852e+00  7.581501e+00  1.975584e+00  1.793080e+00  3.861508e+01   \n",
       "\n",
       "           PromTime     TargetBuy     TargetAmt  \n",
       "count  2.222300e+04  2.222300e+04  2.222300e+04  \n",
       "mean   5.564354e-17  1.107026e-15 -1.403558e-15  \n",
       "std    1.000000e+00  1.000000e+00  1.000000e+00  \n",
       "min   -1.413315e+00 -5.738214e-01 -5.236736e-01  \n",
       "25%   -5.495475e-01 -5.738214e-01 -5.236736e-01  \n",
       "50%   -3.336056e-01 -5.738214e-01 -5.236736e-01  \n",
       "75%    3.142201e-01 -5.738214e-01 -5.236736e-01  \n",
       "max    7.008419e+00  1.742624e+00  4.806524e+00  "
      ]
     },
     "execution_count": 11,
     "metadata": {},
     "output_type": "execute_result"
    }
   ],
   "source": [
    "data_numerical = data[numerical_columns]\n",
    "data_numerical = (data_numerical - data_numerical.mean()) / data_numerical.std()\n",
    "data_numerical.describe()"
   ]
  },
  {
   "cell_type": "code",
   "execution_count": 12,
   "metadata": {},
   "outputs": [
    {
     "name": "stdout",
     "output_type": "stream",
     "text": [
      "(22223, 40)\n",
      "Index(['ID', 'DemAffl', 'DemAge', 'DemCluster', 'PromSpend', 'PromTime',\n",
      "       'TargetBuy', 'TargetAmt', 'DemClusterGroup_A', 'DemClusterGroup_B',\n",
      "       'DemClusterGroup_C', 'DemClusterGroup_D', 'DemClusterGroup_E',\n",
      "       'DemClusterGroup_F', 'DemClusterGroup_U', 'DemGender_F', 'DemGender_M',\n",
      "       'DemGender_U', 'DemReg_Midlands', 'DemReg_North', 'DemReg_Scottish',\n",
      "       'DemReg_South East', 'DemReg_South West', 'DemTVReg_Border',\n",
      "       'DemTVReg_C Scotland', 'DemTVReg_East', 'DemTVReg_London',\n",
      "       'DemTVReg_Midlands', 'DemTVReg_N East', 'DemTVReg_N Scot',\n",
      "       'DemTVReg_N West', 'DemTVReg_S & S East', 'DemTVReg_S West',\n",
      "       'DemTVReg_Ulster', 'DemTVReg_Wales & West', 'DemTVReg_Yorkshire',\n",
      "       'PromClass_Gold', 'PromClass_Platinum', 'PromClass_Silver',\n",
      "       'PromClass_Tin'],\n",
      "      dtype='object')\n"
     ]
    }
   ],
   "source": [
    "data = pd.concat((data_numerical, data[binary_columns], data_nonbinary), axis=1)\n",
    "data = pd.DataFrame(data, dtype=float)\n",
    "print(data.shape)\n",
    "print(data.columns)"
   ]
  },
  {
   "cell_type": "code",
   "execution_count": 23,
   "metadata": {},
   "outputs": [],
   "source": [
    "X=data.drop(('TargetBuy'), axis=1)\n",
    "y=data['TargetBuy']\n",
    "\n",
    "X_train, X_test, y_train, y_test = train_test_split(X, y, test_size = 0.3, random_state = 11)"
   ]
  },
  {
   "cell_type": "code",
   "execution_count": 24,
   "metadata": {},
   "outputs": [
    {
     "ename": "ValueError",
     "evalue": "could not convert string to float: 'F'",
     "output_type": "error",
     "traceback": [
      "\u001b[1;31m---------------------------------------------------------------------------\u001b[0m",
      "\u001b[1;31mValueError\u001b[0m                                Traceback (most recent call last)",
      "\u001b[1;32m<ipython-input-24-1879f4cc1504>\u001b[0m in \u001b[0;36m<module>\u001b[1;34m\u001b[0m\n\u001b[0;32m      3\u001b[0m \u001b[0mtree\u001b[0m\u001b[1;33m=\u001b[0m\u001b[0mDecisionTreeClassifier\u001b[0m\u001b[1;33m(\u001b[0m\u001b[0mmax_depth\u001b[0m\u001b[1;33m=\u001b[0m\u001b[1;36m4\u001b[0m\u001b[1;33m,\u001b[0m \u001b[0mrandom_state\u001b[0m\u001b[1;33m=\u001b[0m\u001b[1;36m0\u001b[0m\u001b[1;33m)\u001b[0m\u001b[1;33m\u001b[0m\u001b[1;33m\u001b[0m\u001b[0m\n\u001b[0;32m      4\u001b[0m \u001b[1;33m\u001b[0m\u001b[0m\n\u001b[1;32m----> 5\u001b[1;33m \u001b[0mtree\u001b[0m\u001b[1;33m.\u001b[0m\u001b[0mfit\u001b[0m\u001b[1;33m(\u001b[0m\u001b[0mX_train\u001b[0m\u001b[1;33m,\u001b[0m \u001b[0my_train\u001b[0m\u001b[1;33m)\u001b[0m\u001b[1;33m\u001b[0m\u001b[1;33m\u001b[0m\u001b[0m\n\u001b[0m\u001b[0;32m      6\u001b[0m \u001b[1;33m\u001b[0m\u001b[0m\n\u001b[0;32m      7\u001b[0m export_graphviz(tree, out_file='Organics_tree3.dot',  \n",
      "\u001b[1;32mC:\\conda\\lib\\site-packages\\sklearn\\tree\\tree.py\u001b[0m in \u001b[0;36mfit\u001b[1;34m(self, X, y, sample_weight, check_input, X_idx_sorted)\u001b[0m\n\u001b[0;32m    814\u001b[0m             \u001b[0msample_weight\u001b[0m\u001b[1;33m=\u001b[0m\u001b[0msample_weight\u001b[0m\u001b[1;33m,\u001b[0m\u001b[1;33m\u001b[0m\u001b[1;33m\u001b[0m\u001b[0m\n\u001b[0;32m    815\u001b[0m             \u001b[0mcheck_input\u001b[0m\u001b[1;33m=\u001b[0m\u001b[0mcheck_input\u001b[0m\u001b[1;33m,\u001b[0m\u001b[1;33m\u001b[0m\u001b[1;33m\u001b[0m\u001b[0m\n\u001b[1;32m--> 816\u001b[1;33m             X_idx_sorted=X_idx_sorted)\n\u001b[0m\u001b[0;32m    817\u001b[0m         \u001b[1;32mreturn\u001b[0m \u001b[0mself\u001b[0m\u001b[1;33m\u001b[0m\u001b[1;33m\u001b[0m\u001b[0m\n\u001b[0;32m    818\u001b[0m \u001b[1;33m\u001b[0m\u001b[0m\n",
      "\u001b[1;32mC:\\conda\\lib\\site-packages\\sklearn\\tree\\tree.py\u001b[0m in \u001b[0;36mfit\u001b[1;34m(self, X, y, sample_weight, check_input, X_idx_sorted)\u001b[0m\n\u001b[0;32m    128\u001b[0m         \u001b[0mrandom_state\u001b[0m \u001b[1;33m=\u001b[0m \u001b[0mcheck_random_state\u001b[0m\u001b[1;33m(\u001b[0m\u001b[0mself\u001b[0m\u001b[1;33m.\u001b[0m\u001b[0mrandom_state\u001b[0m\u001b[1;33m)\u001b[0m\u001b[1;33m\u001b[0m\u001b[1;33m\u001b[0m\u001b[0m\n\u001b[0;32m    129\u001b[0m         \u001b[1;32mif\u001b[0m \u001b[0mcheck_input\u001b[0m\u001b[1;33m:\u001b[0m\u001b[1;33m\u001b[0m\u001b[1;33m\u001b[0m\u001b[0m\n\u001b[1;32m--> 130\u001b[1;33m             \u001b[0mX\u001b[0m \u001b[1;33m=\u001b[0m \u001b[0mcheck_array\u001b[0m\u001b[1;33m(\u001b[0m\u001b[0mX\u001b[0m\u001b[1;33m,\u001b[0m \u001b[0mdtype\u001b[0m\u001b[1;33m=\u001b[0m\u001b[0mDTYPE\u001b[0m\u001b[1;33m,\u001b[0m \u001b[0maccept_sparse\u001b[0m\u001b[1;33m=\u001b[0m\u001b[1;34m\"csc\"\u001b[0m\u001b[1;33m)\u001b[0m\u001b[1;33m\u001b[0m\u001b[1;33m\u001b[0m\u001b[0m\n\u001b[0m\u001b[0;32m    131\u001b[0m             \u001b[0my\u001b[0m \u001b[1;33m=\u001b[0m \u001b[0mcheck_array\u001b[0m\u001b[1;33m(\u001b[0m\u001b[0my\u001b[0m\u001b[1;33m,\u001b[0m \u001b[0mensure_2d\u001b[0m\u001b[1;33m=\u001b[0m\u001b[1;32mFalse\u001b[0m\u001b[1;33m,\u001b[0m \u001b[0mdtype\u001b[0m\u001b[1;33m=\u001b[0m\u001b[1;32mNone\u001b[0m\u001b[1;33m)\u001b[0m\u001b[1;33m\u001b[0m\u001b[1;33m\u001b[0m\u001b[0m\n\u001b[0;32m    132\u001b[0m             \u001b[1;32mif\u001b[0m \u001b[0missparse\u001b[0m\u001b[1;33m(\u001b[0m\u001b[0mX\u001b[0m\u001b[1;33m)\u001b[0m\u001b[1;33m:\u001b[0m\u001b[1;33m\u001b[0m\u001b[1;33m\u001b[0m\u001b[0m\n",
      "\u001b[1;32mC:\\conda\\lib\\site-packages\\sklearn\\utils\\validation.py\u001b[0m in \u001b[0;36mcheck_array\u001b[1;34m(array, accept_sparse, accept_large_sparse, dtype, order, copy, force_all_finite, ensure_2d, allow_nd, ensure_min_samples, ensure_min_features, warn_on_dtype, estimator)\u001b[0m\n\u001b[0;32m    494\u001b[0m             \u001b[1;32mtry\u001b[0m\u001b[1;33m:\u001b[0m\u001b[1;33m\u001b[0m\u001b[1;33m\u001b[0m\u001b[0m\n\u001b[0;32m    495\u001b[0m                 \u001b[0mwarnings\u001b[0m\u001b[1;33m.\u001b[0m\u001b[0msimplefilter\u001b[0m\u001b[1;33m(\u001b[0m\u001b[1;34m'error'\u001b[0m\u001b[1;33m,\u001b[0m \u001b[0mComplexWarning\u001b[0m\u001b[1;33m)\u001b[0m\u001b[1;33m\u001b[0m\u001b[1;33m\u001b[0m\u001b[0m\n\u001b[1;32m--> 496\u001b[1;33m                 \u001b[0marray\u001b[0m \u001b[1;33m=\u001b[0m \u001b[0mnp\u001b[0m\u001b[1;33m.\u001b[0m\u001b[0masarray\u001b[0m\u001b[1;33m(\u001b[0m\u001b[0marray\u001b[0m\u001b[1;33m,\u001b[0m \u001b[0mdtype\u001b[0m\u001b[1;33m=\u001b[0m\u001b[0mdtype\u001b[0m\u001b[1;33m,\u001b[0m \u001b[0morder\u001b[0m\u001b[1;33m=\u001b[0m\u001b[0morder\u001b[0m\u001b[1;33m)\u001b[0m\u001b[1;33m\u001b[0m\u001b[1;33m\u001b[0m\u001b[0m\n\u001b[0m\u001b[0;32m    497\u001b[0m             \u001b[1;32mexcept\u001b[0m \u001b[0mComplexWarning\u001b[0m\u001b[1;33m:\u001b[0m\u001b[1;33m\u001b[0m\u001b[1;33m\u001b[0m\u001b[0m\n\u001b[0;32m    498\u001b[0m                 raise ValueError(\"Complex data not supported\\n\"\n",
      "\u001b[1;32mC:\\conda\\lib\\site-packages\\numpy\\core\\numeric.py\u001b[0m in \u001b[0;36masarray\u001b[1;34m(a, dtype, order)\u001b[0m\n\u001b[0;32m    536\u001b[0m \u001b[1;33m\u001b[0m\u001b[0m\n\u001b[0;32m    537\u001b[0m     \"\"\"\n\u001b[1;32m--> 538\u001b[1;33m     \u001b[1;32mreturn\u001b[0m \u001b[0marray\u001b[0m\u001b[1;33m(\u001b[0m\u001b[0ma\u001b[0m\u001b[1;33m,\u001b[0m \u001b[0mdtype\u001b[0m\u001b[1;33m,\u001b[0m \u001b[0mcopy\u001b[0m\u001b[1;33m=\u001b[0m\u001b[1;32mFalse\u001b[0m\u001b[1;33m,\u001b[0m \u001b[0morder\u001b[0m\u001b[1;33m=\u001b[0m\u001b[0morder\u001b[0m\u001b[1;33m)\u001b[0m\u001b[1;33m\u001b[0m\u001b[1;33m\u001b[0m\u001b[0m\n\u001b[0m\u001b[0;32m    539\u001b[0m \u001b[1;33m\u001b[0m\u001b[0m\n\u001b[0;32m    540\u001b[0m \u001b[1;33m\u001b[0m\u001b[0m\n",
      "\u001b[1;31mValueError\u001b[0m: could not convert string to float: 'F'"
     ]
    }
   ],
   "source": [
    "from sklearn.tree import DecisionTreeClassifier \n",
    "\n",
    "tree=DecisionTreeClassifier(max_depth=4, random_state=0) \n",
    "\n",
    "tree.fit(X_train, y_train) \n",
    "\n",
    "export_graphviz(tree, out_file='Organics_tree3.dot',  \n",
    "\n",
    "               rounded = True, proportion = False,  \n",
    "\n",
    "                precision = 2, filled = True) \n",
    "\n",
    "(graph, ) = pydot.graph_from_dot_file('Organics_tree3.dot') \n",
    "graph.write_png('Organics_tree3.png') "
   ]
  },
  {
   "cell_type": "code",
   "execution_count": 15,
   "metadata": {},
   "outputs": [
    {
     "ename": "NameError",
     "evalue": "name 'X_train' is not defined",
     "output_type": "error",
     "traceback": [
      "\u001b[1;31m---------------------------------------------------------------------------\u001b[0m",
      "\u001b[1;31mNameError\u001b[0m                                 Traceback (most recent call last)",
      "\u001b[1;32m<ipython-input-15-14e48f3b48d5>\u001b[0m in \u001b[0;36m<module>\u001b[1;34m\u001b[0m\n\u001b[1;32m----> 1\u001b[1;33m \u001b[0mtree\u001b[0m\u001b[1;33m.\u001b[0m\u001b[0mscore\u001b[0m\u001b[1;33m(\u001b[0m\u001b[0mX_train\u001b[0m\u001b[1;33m,\u001b[0m \u001b[0my_train\u001b[0m\u001b[1;33m)\u001b[0m\u001b[1;33m\u001b[0m\u001b[1;33m\u001b[0m\u001b[0m\n\u001b[0m",
      "\u001b[1;31mNameError\u001b[0m: name 'X_train' is not defined"
     ]
    }
   ],
   "source": [
    "tree.score(X_train, y_train)"
   ]
  },
  {
   "cell_type": "code",
   "execution_count": 21,
   "metadata": {},
   "outputs": [
    {
     "ename": "NotFittedError",
     "evalue": "This DecisionTreeClassifier instance is not fitted yet. Call 'fit' with appropriate arguments before using this method.",
     "output_type": "error",
     "traceback": [
      "\u001b[1;31m---------------------------------------------------------------------------\u001b[0m",
      "\u001b[1;31mNotFittedError\u001b[0m                            Traceback (most recent call last)",
      "\u001b[1;32m<ipython-input-21-893987ac2667>\u001b[0m in \u001b[0;36m<module>\u001b[1;34m\u001b[0m\n\u001b[1;32m----> 1\u001b[1;33m \u001b[0mtree\u001b[0m\u001b[1;33m.\u001b[0m\u001b[0mscore\u001b[0m\u001b[1;33m(\u001b[0m\u001b[0mX_test\u001b[0m\u001b[1;33m,\u001b[0m \u001b[0my_test\u001b[0m\u001b[1;33m)\u001b[0m\u001b[1;33m\u001b[0m\u001b[1;33m\u001b[0m\u001b[0m\n\u001b[0m",
      "\u001b[1;32mC:\\conda\\lib\\site-packages\\sklearn\\base.py\u001b[0m in \u001b[0;36mscore\u001b[1;34m(self, X, y, sample_weight)\u001b[0m\n\u001b[0;32m    355\u001b[0m         \"\"\"\n\u001b[0;32m    356\u001b[0m         \u001b[1;32mfrom\u001b[0m \u001b[1;33m.\u001b[0m\u001b[0mmetrics\u001b[0m \u001b[1;32mimport\u001b[0m \u001b[0maccuracy_score\u001b[0m\u001b[1;33m\u001b[0m\u001b[1;33m\u001b[0m\u001b[0m\n\u001b[1;32m--> 357\u001b[1;33m         \u001b[1;32mreturn\u001b[0m \u001b[0maccuracy_score\u001b[0m\u001b[1;33m(\u001b[0m\u001b[0my\u001b[0m\u001b[1;33m,\u001b[0m \u001b[0mself\u001b[0m\u001b[1;33m.\u001b[0m\u001b[0mpredict\u001b[0m\u001b[1;33m(\u001b[0m\u001b[0mX\u001b[0m\u001b[1;33m)\u001b[0m\u001b[1;33m,\u001b[0m \u001b[0msample_weight\u001b[0m\u001b[1;33m=\u001b[0m\u001b[0msample_weight\u001b[0m\u001b[1;33m)\u001b[0m\u001b[1;33m\u001b[0m\u001b[1;33m\u001b[0m\u001b[0m\n\u001b[0m\u001b[0;32m    358\u001b[0m \u001b[1;33m\u001b[0m\u001b[0m\n\u001b[0;32m    359\u001b[0m \u001b[1;33m\u001b[0m\u001b[0m\n",
      "\u001b[1;32mC:\\conda\\lib\\site-packages\\sklearn\\tree\\tree.py\u001b[0m in \u001b[0;36mpredict\u001b[1;34m(self, X, check_input)\u001b[0m\n\u001b[0;32m    427\u001b[0m             \u001b[0mThe\u001b[0m \u001b[0mpredicted\u001b[0m \u001b[0mclasses\u001b[0m\u001b[1;33m,\u001b[0m \u001b[1;32mor\u001b[0m \u001b[0mthe\u001b[0m \u001b[0mpredict\u001b[0m \u001b[0mvalues\u001b[0m\u001b[1;33m.\u001b[0m\u001b[1;33m\u001b[0m\u001b[1;33m\u001b[0m\u001b[0m\n\u001b[0;32m    428\u001b[0m         \"\"\"\n\u001b[1;32m--> 429\u001b[1;33m         \u001b[0mcheck_is_fitted\u001b[0m\u001b[1;33m(\u001b[0m\u001b[0mself\u001b[0m\u001b[1;33m,\u001b[0m \u001b[1;34m'tree_'\u001b[0m\u001b[1;33m)\u001b[0m\u001b[1;33m\u001b[0m\u001b[1;33m\u001b[0m\u001b[0m\n\u001b[0m\u001b[0;32m    430\u001b[0m         \u001b[0mX\u001b[0m \u001b[1;33m=\u001b[0m \u001b[0mself\u001b[0m\u001b[1;33m.\u001b[0m\u001b[0m_validate_X_predict\u001b[0m\u001b[1;33m(\u001b[0m\u001b[0mX\u001b[0m\u001b[1;33m,\u001b[0m \u001b[0mcheck_input\u001b[0m\u001b[1;33m)\u001b[0m\u001b[1;33m\u001b[0m\u001b[1;33m\u001b[0m\u001b[0m\n\u001b[0;32m    431\u001b[0m         \u001b[0mproba\u001b[0m \u001b[1;33m=\u001b[0m \u001b[0mself\u001b[0m\u001b[1;33m.\u001b[0m\u001b[0mtree_\u001b[0m\u001b[1;33m.\u001b[0m\u001b[0mpredict\u001b[0m\u001b[1;33m(\u001b[0m\u001b[0mX\u001b[0m\u001b[1;33m)\u001b[0m\u001b[1;33m\u001b[0m\u001b[1;33m\u001b[0m\u001b[0m\n",
      "\u001b[1;32mC:\\conda\\lib\\site-packages\\sklearn\\utils\\validation.py\u001b[0m in \u001b[0;36mcheck_is_fitted\u001b[1;34m(estimator, attributes, msg, all_or_any)\u001b[0m\n\u001b[0;32m    912\u001b[0m \u001b[1;33m\u001b[0m\u001b[0m\n\u001b[0;32m    913\u001b[0m     \u001b[1;32mif\u001b[0m \u001b[1;32mnot\u001b[0m \u001b[0mall_or_any\u001b[0m\u001b[1;33m(\u001b[0m\u001b[1;33m[\u001b[0m\u001b[0mhasattr\u001b[0m\u001b[1;33m(\u001b[0m\u001b[0mestimator\u001b[0m\u001b[1;33m,\u001b[0m \u001b[0mattr\u001b[0m\u001b[1;33m)\u001b[0m \u001b[1;32mfor\u001b[0m \u001b[0mattr\u001b[0m \u001b[1;32min\u001b[0m \u001b[0mattributes\u001b[0m\u001b[1;33m]\u001b[0m\u001b[1;33m)\u001b[0m\u001b[1;33m:\u001b[0m\u001b[1;33m\u001b[0m\u001b[1;33m\u001b[0m\u001b[0m\n\u001b[1;32m--> 914\u001b[1;33m         \u001b[1;32mraise\u001b[0m \u001b[0mNotFittedError\u001b[0m\u001b[1;33m(\u001b[0m\u001b[0mmsg\u001b[0m \u001b[1;33m%\u001b[0m \u001b[1;33m{\u001b[0m\u001b[1;34m'name'\u001b[0m\u001b[1;33m:\u001b[0m \u001b[0mtype\u001b[0m\u001b[1;33m(\u001b[0m\u001b[0mestimator\u001b[0m\u001b[1;33m)\u001b[0m\u001b[1;33m.\u001b[0m\u001b[0m__name__\u001b[0m\u001b[1;33m}\u001b[0m\u001b[1;33m)\u001b[0m\u001b[1;33m\u001b[0m\u001b[1;33m\u001b[0m\u001b[0m\n\u001b[0m\u001b[0;32m    915\u001b[0m \u001b[1;33m\u001b[0m\u001b[0m\n\u001b[0;32m    916\u001b[0m \u001b[1;33m\u001b[0m\u001b[0m\n",
      "\u001b[1;31mNotFittedError\u001b[0m: This DecisionTreeClassifier instance is not fitted yet. Call 'fit' with appropriate arguments before using this method."
     ]
    }
   ],
   "source": [
    "tree.score(X_test, y_test)"
   ]
  },
  {
   "cell_type": "code",
   "execution_count": null,
   "metadata": {},
   "outputs": [],
   "source": []
  },
  {
   "cell_type": "code",
   "execution_count": null,
   "metadata": {},
   "outputs": [],
   "source": []
  }
 ],
 "metadata": {
  "kernelspec": {
   "display_name": "Python 3",
   "language": "python",
   "name": "python3"
  },
  "language_info": {
   "codemirror_mode": {
    "name": "ipython",
    "version": 3
   },
   "file_extension": ".py",
   "mimetype": "text/x-python",
   "name": "python",
   "nbconvert_exporter": "python",
   "pygments_lexer": "ipython3",
   "version": "3.7.4"
  }
 },
 "nbformat": 4,
 "nbformat_minor": 2
}
